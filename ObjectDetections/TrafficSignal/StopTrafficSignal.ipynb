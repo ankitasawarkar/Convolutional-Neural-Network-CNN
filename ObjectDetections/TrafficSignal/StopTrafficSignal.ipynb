{
 "cells": [
  {
   "cell_type": "code",
   "execution_count": null,
   "id": "b03bf1f5-2871-470a-aab6-e9283dc19af8",
   "metadata": {},
   "outputs": [],
   "source": [
    "%%bash\n",
    "mkdir ~/.kaggle\n",
    "cp kaggle.json ~/.kaggle/kaggle.json\n",
    "chmod 600 ~/.kaggle/kaggle.json\n",
    "pip install kaggle\n"
   ]
  },
  {
   "cell_type": "code",
   "execution_count": null,
   "id": "e55b7aac-3f54-4928-be67-602ff57a3fa2",
   "metadata": {},
   "outputs": [],
   "source": [
    "kaggle datasets download -d andrewmvd/road-sign-detection\n",
    "unzip road-sign-detection.zip -d data\n",
    "mv ./data/annotations ./data/labels"
   ]
  }
 ],
 "metadata": {
  "kernelspec": {
   "display_name": "Python 3 (ipykernel)",
   "language": "python",
   "name": "python3"
  },
  "language_info": {
   "codemirror_mode": {
    "name": "ipython",
    "version": 3
   },
   "file_extension": ".py",
   "mimetype": "text/x-python",
   "name": "python",
   "nbconvert_exporter": "python",
   "pygments_lexer": "ipython3",
   "version": "3.10.9"
  }
 },
 "nbformat": 4,
 "nbformat_minor": 5
}
